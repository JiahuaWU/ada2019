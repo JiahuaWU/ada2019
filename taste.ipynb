{
 "cells": [
  {
   "cell_type": "code",
   "execution_count": 1,
   "metadata": {},
   "outputs": [],
   "source": [
    "import pandas as pd\n",
    "import ast"
   ]
  },
  {
   "cell_type": "code",
   "execution_count": 2,
   "metadata": {},
   "outputs": [],
   "source": [
    "recipes_df = pd.read_csv('RAW_recipes.csv')\n",
    "interactions_df = pd.read_csv('RAW_interactions.csv')"
   ]
  },
  {
   "cell_type": "code",
   "execution_count": 3,
   "metadata": {},
   "outputs": [],
   "source": [
    "nutritions_list = [\"calories\", \"total_fat\", \"sugar\", \"sodium\", \"protein\", \"sat_fat\", \"carbs\"]"
   ]
  },
  {
   "cell_type": "code",
   "execution_count": 4,
   "metadata": {},
   "outputs": [],
   "source": [
    "recipes_df['nutrition'] = recipes_df['nutrition'].apply(ast.literal_eval)"
   ]
  },
  {
   "cell_type": "code",
   "execution_count": 5,
   "metadata": {},
   "outputs": [],
   "source": [
    "recipes_df[nutritions_list] = pd.DataFrame(recipes_df.nutrition.values.tolist(), index=recipes_df.index)"
   ]
  },
  {
   "cell_type": "code",
   "execution_count": 6,
   "metadata": {},
   "outputs": [],
   "source": [
    "recipes_df = recipes_df.drop(['nutrition'], axis=1)"
   ]
  },
  {
   "cell_type": "code",
   "execution_count": 7,
   "metadata": {
    "scrolled": true
   },
   "outputs": [
    {
     "data": {
      "text/plain": [
       "name               True\n",
       "id                False\n",
       "minutes           False\n",
       "contributor_id    False\n",
       "submitted         False\n",
       "tags              False\n",
       "n_steps           False\n",
       "steps             False\n",
       "description        True\n",
       "ingredients       False\n",
       "n_ingredients     False\n",
       "calories          False\n",
       "total_fat         False\n",
       "sugar             False\n",
       "sodium            False\n",
       "protein           False\n",
       "sat_fat           False\n",
       "carbs             False\n",
       "dtype: bool"
      ]
     },
     "execution_count": 7,
     "metadata": {},
     "output_type": "execute_result"
    }
   ],
   "source": [
    "recipes_df.isnull().any()"
   ]
  },
  {
   "cell_type": "code",
   "execution_count": 8,
   "metadata": {
    "scrolled": true
   },
   "outputs": [],
   "source": [
    "recipes_df = recipes_df.dropna(axis=0).reset_index(drop=True)"
   ]
  },
  {
   "cell_type": "code",
   "execution_count": 9,
   "metadata": {},
   "outputs": [
    {
     "data": {
      "text/plain": [
       "user_id      False\n",
       "recipe_id    False\n",
       "date         False\n",
       "rating       False\n",
       "review        True\n",
       "dtype: bool"
      ]
     },
     "execution_count": 9,
     "metadata": {},
     "output_type": "execute_result"
    }
   ],
   "source": [
    "interactions_df.isnull().any()"
   ]
  },
  {
   "cell_type": "code",
   "execution_count": 10,
   "metadata": {},
   "outputs": [],
   "source": [
    "interactions_df = interactions_df.dropna(axis=0)"
   ]
  },
  {
   "cell_type": "code",
   "execution_count": 11,
   "metadata": {},
   "outputs": [],
   "source": [
    "complete_df = recipes_df.merge(interactions_df, left_on='id', right_on='recipe_id')"
   ]
  },
  {
   "cell_type": "code",
   "execution_count": 12,
   "metadata": {},
   "outputs": [],
   "source": [
    "complete_df = complete_df[complete_df['minutes'] <= 500].reset_index(drop=True)"
   ]
  },
  {
   "cell_type": "code",
   "execution_count": 13,
   "metadata": {
    "scrolled": true
   },
   "outputs": [
    {
     "data": {
      "text/plain": [
       "<matplotlib.axes._subplots.AxesSubplot at 0x141295f60>"
      ]
     },
     "execution_count": 13,
     "metadata": {},
     "output_type": "execute_result"
    }
   ],
   "source": [
    "complete_df['minutes'].hist()"
   ]
  },
  {
   "cell_type": "code",
   "execution_count": 14,
   "metadata": {},
   "outputs": [
    {
     "data": {
      "text/plain": [
       "<matplotlib.axes._subplots.AxesSubplot at 0x141189550>"
      ]
     },
     "execution_count": 14,
     "metadata": {},
     "output_type": "execute_result"
    },
    {
     "data": {
      "image/png": "[encoded data removed]",
      "text/plain": [
       "<Figure size 432x288 with 1 Axes>"
      ]
     },
     "metadata": {
      "needs_background": "light"
     },
     "output_type": "display_data"
    }
   ],
   "source": [
    "complete_df['rating'].hist()"
   ]
  },
  {
   "cell_type": "code",
   "execution_count": 15,
   "metadata": {
    "scrolled": true
   },
   "outputs": [
    {
     "data": {
      "text/plain": [
       "'best banana bread'"
      ]
     },
     "execution_count": 15,
     "metadata": {},
     "output_type": "execute_result"
    }
   ],
   "source": [
    "# Most reviewed recipe\n",
    "complete_df.groupby('name').count().idxmax()[0]"
   ]
  },
  {
   "cell_type": "markdown",
   "metadata": {},
   "source": [
    "### How number of trials related to n_steps, time, each nutrition component and the ratings of others?"
   ]
  },
  {
   "cell_type": "code",
   "execution_count": 64,
   "metadata": {},
   "outputs": [],
   "source": [
    "num_reviews_df = complete_df.groupby('id').count()"
   ]
  },
  {
   "cell_type": "code",
   "execution_count": 84,
   "metadata": {
    "scrolled": false
   },
   "outputs": [],
   "source": [
    "df = recipes_df.merge(num_reviews_df[['name']].copy(), left_on='id', right_on='id')\\\n",
    "               .rename(columns={'name_y': 'count'})[['count', 'minutes', 'n_steps', 'n_ingredients'] + nutritions_list]"
   ]
  },
  {
   "cell_type": "code",
   "execution_count": 106,
   "metadata": {},
   "outputs": [],
   "source": [
    "df = df.rename(columns={'count': 'num_reviews'})"
   ]
  },
  {
   "cell_type": "code",
   "execution_count": 149,
   "metadata": {},
   "outputs": [
    {
     "data": {
      "text/html": [
       "<div>\n",
       "<style scoped>\n",
       "    .dataframe tbody tr th:only-of-type {\n",
       "        vertical-align: middle;\n",
       "    }\n",
       "\n",
       "    .dataframe tbody tr th {\n",
       "        vertical-align: top;\n",
       "    }\n",
       "\n",
       "    .dataframe thead th {\n",
       "        text-align: right;\n",
       "    }\n",
       "</style>\n",
       "<table border=\"1\" class=\"dataframe\">\n",
       "  <thead>\n",
       "    <tr style=\"text-align: right;\">\n",
       "      <th></th>\n",
       "      <th>num_reviews</th>\n",
       "      <th>minutes</th>\n",
       "      <th>n_steps</th>\n",
       "      <th>n_ingredients</th>\n",
       "      <th>calories</th>\n",
       "      <th>total_fat</th>\n",
       "      <th>sugar</th>\n",
       "      <th>sodium</th>\n",
       "      <th>protein</th>\n",
       "      <th>sat_fat</th>\n",
       "      <th>carbs</th>\n",
       "    </tr>\n",
       "  </thead>\n",
       "  <tbody>\n",
       "    <tr>\n",
       "      <td>num_reviews</td>\n",
       "      <td>1.000000</td>\n",
       "      <td>-0.017206</td>\n",
       "      <td>-0.036153</td>\n",
       "      <td>-0.030389</td>\n",
       "      <td>-0.018589</td>\n",
       "      <td>-0.017220</td>\n",
       "      <td>-0.017583</td>\n",
       "      <td>0.019060</td>\n",
       "      <td>-0.003645</td>\n",
       "      <td>-0.009600</td>\n",
       "      <td>-0.013180</td>\n",
       "    </tr>\n",
       "    <tr>\n",
       "      <td>minutes</td>\n",
       "      <td>-0.017206</td>\n",
       "      <td>1.000000</td>\n",
       "      <td>0.412881</td>\n",
       "      <td>0.372314</td>\n",
       "      <td>0.252773</td>\n",
       "      <td>0.219254</td>\n",
       "      <td>0.113092</td>\n",
       "      <td>0.221391</td>\n",
       "      <td>0.268594</td>\n",
       "      <td>0.226404</td>\n",
       "      <td>0.189226</td>\n",
       "    </tr>\n",
       "    <tr>\n",
       "      <td>n_steps</td>\n",
       "      <td>-0.036153</td>\n",
       "      <td>0.412881</td>\n",
       "      <td>1.000000</td>\n",
       "      <td>0.448175</td>\n",
       "      <td>0.222797</td>\n",
       "      <td>0.221271</td>\n",
       "      <td>0.068838</td>\n",
       "      <td>0.139528</td>\n",
       "      <td>0.210223</td>\n",
       "      <td>0.235723</td>\n",
       "      <td>0.172929</td>\n",
       "    </tr>\n",
       "    <tr>\n",
       "      <td>n_ingredients</td>\n",
       "      <td>-0.030389</td>\n",
       "      <td>0.372314</td>\n",
       "      <td>0.448175</td>\n",
       "      <td>1.000000</td>\n",
       "      <td>0.252710</td>\n",
       "      <td>0.241082</td>\n",
       "      <td>0.102542</td>\n",
       "      <td>0.303544</td>\n",
       "      <td>0.310436</td>\n",
       "      <td>0.185380</td>\n",
       "      <td>0.194063</td>\n",
       "    </tr>\n",
       "    <tr>\n",
       "      <td>calories</td>\n",
       "      <td>-0.018589</td>\n",
       "      <td>0.252773</td>\n",
       "      <td>0.222797</td>\n",
       "      <td>0.252710</td>\n",
       "      <td>1.000000</td>\n",
       "      <td>0.831102</td>\n",
       "      <td>0.320976</td>\n",
       "      <td>0.585699</td>\n",
       "      <td>0.725884</td>\n",
       "      <td>0.750198</td>\n",
       "      <td>0.645057</td>\n",
       "    </tr>\n",
       "    <tr>\n",
       "      <td>total_fat</td>\n",
       "      <td>-0.017220</td>\n",
       "      <td>0.219254</td>\n",
       "      <td>0.221271</td>\n",
       "      <td>0.241082</td>\n",
       "      <td>0.831102</td>\n",
       "      <td>1.000000</td>\n",
       "      <td>0.122188</td>\n",
       "      <td>0.540828</td>\n",
       "      <td>0.630811</td>\n",
       "      <td>0.920664</td>\n",
       "      <td>0.297685</td>\n",
       "    </tr>\n",
       "    <tr>\n",
       "      <td>sugar</td>\n",
       "      <td>-0.017583</td>\n",
       "      <td>0.113092</td>\n",
       "      <td>0.068838</td>\n",
       "      <td>0.102542</td>\n",
       "      <td>0.320976</td>\n",
       "      <td>0.122188</td>\n",
       "      <td>1.000000</td>\n",
       "      <td>0.030280</td>\n",
       "      <td>-0.042320</td>\n",
       "      <td>0.130432</td>\n",
       "      <td>0.626300</td>\n",
       "    </tr>\n",
       "    <tr>\n",
       "      <td>sodium</td>\n",
       "      <td>0.019060</td>\n",
       "      <td>0.221391</td>\n",
       "      <td>0.139528</td>\n",
       "      <td>0.303544</td>\n",
       "      <td>0.585699</td>\n",
       "      <td>0.540828</td>\n",
       "      <td>0.030280</td>\n",
       "      <td>1.000000</td>\n",
       "      <td>0.671058</td>\n",
       "      <td>0.480858</td>\n",
       "      <td>0.304186</td>\n",
       "    </tr>\n",
       "    <tr>\n",
       "      <td>protein</td>\n",
       "      <td>-0.003645</td>\n",
       "      <td>0.268594</td>\n",
       "      <td>0.210223</td>\n",
       "      <td>0.310436</td>\n",
       "      <td>0.725884</td>\n",
       "      <td>0.630811</td>\n",
       "      <td>-0.042320</td>\n",
       "      <td>0.671058</td>\n",
       "      <td>1.000000</td>\n",
       "      <td>0.559546</td>\n",
       "      <td>0.279243</td>\n",
       "    </tr>\n",
       "    <tr>\n",
       "      <td>sat_fat</td>\n",
       "      <td>-0.009600</td>\n",
       "      <td>0.226404</td>\n",
       "      <td>0.235723</td>\n",
       "      <td>0.185380</td>\n",
       "      <td>0.750198</td>\n",
       "      <td>0.920664</td>\n",
       "      <td>0.130432</td>\n",
       "      <td>0.480858</td>\n",
       "      <td>0.559546</td>\n",
       "      <td>1.000000</td>\n",
       "      <td>0.274632</td>\n",
       "    </tr>\n",
       "    <tr>\n",
       "      <td>carbs</td>\n",
       "      <td>-0.013180</td>\n",
       "      <td>0.189226</td>\n",
       "      <td>0.172929</td>\n",
       "      <td>0.194063</td>\n",
       "      <td>0.645057</td>\n",
       "      <td>0.297685</td>\n",
       "      <td>0.626300</td>\n",
       "      <td>0.304186</td>\n",
       "      <td>0.279243</td>\n",
       "      <td>0.274632</td>\n",
       "      <td>1.000000</td>\n",
       "    </tr>\n",
       "  </tbody>\n",
       "</table>\n",
       "</div>"
      ],
      "text/plain": [
       "               num_reviews   minutes   n_steps  n_ingredients  calories  \\\n",
       "num_reviews       1.000000 -0.017206 -0.036153      -0.030389 -0.018589   \n",
       "minutes          -0.017206  1.000000  0.412881       0.372314  0.252773   \n",
       "n_steps          -0.036153  0.412881  1.000000       0.448175  0.222797   \n",
       "n_ingredients    -0.030389  0.372314  0.448175       1.000000  0.252710   \n",
       "calories         -0.018589  0.252773  0.222797       0.252710  1.000000   \n",
       "total_fat        -0.017220  0.219254  0.221271       0.241082  0.831102   \n",
       "sugar            -0.017583  0.113092  0.068838       0.102542  0.320976   \n",
       "sodium            0.019060  0.221391  0.139528       0.303544  0.585699   \n",
       "protein          -0.003645  0.268594  0.210223       0.310436  0.725884   \n",
       "sat_fat          -0.009600  0.226404  0.235723       0.185380  0.750198   \n",
       "carbs            -0.013180  0.189226  0.172929       0.194063  0.645057   \n",
       "\n",
       "               total_fat     sugar    sodium   protein   sat_fat     carbs  \n",
       "num_reviews    -0.017220 -0.017583  0.019060 -0.003645 -0.009600 -0.013180  \n",
       "minutes         0.219254  0.113092  0.221391  0.268594  0.226404  0.189226  \n",
       "n_steps         0.221271  0.068838  0.139528  0.210223  0.235723  0.172929  \n",
       "n_ingredients   0.241082  0.102542  0.303544  0.310436  0.185380  0.194063  \n",
       "calories        0.831102  0.320976  0.585699  0.725884  0.750198  0.645057  \n",
       "total_fat       1.000000  0.122188  0.540828  0.630811  0.920664  0.297685  \n",
       "sugar           0.122188  1.000000  0.030280 -0.042320  0.130432  0.626300  \n",
       "sodium          0.540828  0.030280  1.000000  0.671058  0.480858  0.304186  \n",
       "protein         0.630811 -0.042320  0.671058  1.000000  0.559546  0.279243  \n",
       "sat_fat         0.920664  0.130432  0.480858  0.559546  1.000000  0.274632  \n",
       "carbs           0.297685  0.626300  0.304186  0.279243  0.274632  1.000000  "
      ]
     },
     "execution_count": 149,
     "metadata": {},
     "output_type": "execute_result"
    }
   ],
   "source": [
    "df.corr(method='spearman')"
   ]
  },
  {
   "cell_type": "code",
   "execution_count": 140,
   "metadata": {},
   "outputs": [],
   "source": [
    "import matplotlib.pyplot as plt\n",
    "%matplotlib inline"
   ]
  },
  {
   "cell_type": "code",
   "execution_count": 143,
   "metadata": {},
   "outputs": [
    {
     "data": {
      "text/plain": [
       "Text(0, 0.5, 'number of reviews')"
      ]
     },
     "execution_count": 143,
     "metadata": {},
     "output_type": "execute_result"
    },
    {
     "data": {
      "image/png": "[encoded data removed]",
      "text/plain": [
       "<Figure size 1080x360 with 1 Axes>"
      ]
     },
     "metadata": {
      "needs_background": "light"
     },
     "output_type": "display_data"
    }
   ],
   "source": [
    "plt.figure(figsize=(15, 5))\n",
    "plt.plot(df_grouped.index, df_grouped['num_reviews'])\n",
    "plt.xlabel('number of steps')\n",
    "plt.ylabel('number of reviews')"
   ]
  },
  {
   "cell_type": "code",
   "execution_count": null,
   "metadata": {},
   "outputs": [],
   "source": [
    "# User preference:\n",
    "# rating with cooking complexity: time and number of steps\n",
    "# rating with health index\n",
    "\n",
    "# Recipe Related:\n",
    "# nations with average nutritions -> nutrition value of recipes of each country.\n",
    "# similarities between dishes based on ingredients or instructions \n",
    "# or description or cooking method (groupby country to see similarity between countries)\n",
    "# NLP approach sources available online: search \"recipe similarity\"\n",
    "# nations with taste (0.1 * sour, 0.2 * salty, 0.6 * spicy, 0.1 * bitter)\n",
    "\n",
    "# Regression Model: ingredients + cooking Method (need quatities) -> nutritions\n",
    "# Classification Model: ingredients -> taste (sour, sweet, bitter, spicy, salty) or symnonyms"
   ]
  },
  {
   "cell_type": "code",
   "execution_count": 117,
   "metadata": {},
   "outputs": [],
   "source": [
    "complete_df['taste'] = [list() for x in range(len(complete_df.index))]"
   ]
  },
  {
   "cell_type": "code",
   "execution_count": 118,
   "metadata": {},
   "outputs": [],
   "source": [
    "taste_word_dict = {'sour': ['acid', 'acidic', 'sour', 'tart', 'vinegary', 'citrus', 'lemon'],\n",
    "                   'bitter': ['bitter', 'harsh'],\n",
    "                   'salty': ['brackish', 'salty', 'briny', 'saline'],\n",
    "                   'sweet': ['dulcet', 'sweet', 'honeyed', 'dulcified', 'edulcorated', 'sweetened', 'candied','syrupy', 'sugarcoated', 'nectarous', 'candy', 'fudge'],\n",
    "                   'spicy': ['spicy','peppery', 'piquant', 'pungent', 'burning', 'fiery', 'gingery', 'sharp', 'stinging', 'zesty', 'sugary', 'chili', 'chutneys', 'curries', 'peppers']}"
   ]
  },
  {
   "cell_type": "code",
   "execution_count": 119,
   "metadata": {
    "scrolled": false
   },
   "outputs": [
    {
     "name": "stderr",
     "output_type": "stream",
     "text": [
      "/Users/jiahuawu/anaconda3/lib/python3.6/site-packages/pandas/core/indexing.py:205: SettingWithCopyWarning: \n",
      "A value is trying to be set on a copy of a slice from a DataFrame\n",
      "\n",
      "See the caveats in the documentation: http://pandas.pydata.org/pandas-docs/stable/user_guide/indexing.html#returning-a-view-versus-a-copy\n",
      "  self._setitem_with_indexer(indexer, value)\n"
     ]
    }
   ],
   "source": [
    "for taste in taste_word_dict.keys():\n",
    "    recipes = complete_df.review.str.lower().apply(lambda x: any(word in x for word in taste_word_dict[taste]))\\\n",
    "              | complete_df.tags.apply(lambda x: any(word in x for word in taste_word_dict[taste]))\\\n",
    "              | complete_df.description.str.lower().apply(lambda x: any(word in x for word in taste_word_dict[taste]))\n",
    "    complete_df.taste.loc[recipes] = complete_df[recipes].taste.apply(lambda l:l + [taste])"
   ]
  },
  {
   "cell_type": "code",
   "execution_count": 120,
   "metadata": {
    "scrolled": false
   },
   "outputs": [],
   "source": [
    "taste_df = complete_df[complete_df.taste.apply(lambda l: len(l) > 0)].groupby(['id', 'name']).agg({'taste':'sum'})"
   ]
  },
  {
   "cell_type": "code",
   "execution_count": 121,
   "metadata": {},
   "outputs": [],
   "source": [
    "taste_df['taste'] = taste_df['taste'].apply(set)"
   ]
  },
  {
   "cell_type": "code",
   "execution_count": 123,
   "metadata": {},
   "outputs": [],
   "source": [
    "taste_df.to_csv('taste_df.csv')"
   ]
  },
  {
   "cell_type": "code",
   "execution_count": 128,
   "metadata": {},
   "outputs": [],
   "source": [
    "taste_recipes_df = taste_df.merge(recipes_df, left_on='id', right_on='id').drop('taste_y', axis=1).rename(columns={'taste_x': 'taste'})"
   ]
  },
  {
   "cell_type": "markdown",
   "metadata": {},
   "source": [
    "## Scraper Test"
   ]
  },
  {
   "cell_type": "code",
   "execution_count": 1,
   "metadata": {},
   "outputs": [],
   "source": [
    "url = 'https://www.food.com/recipe/buttermilk-pie-with-gingersnap-crumb-crust-45?mode=Metric&scaleto=8'"
   ]
  },
  {
   "cell_type": "code",
   "execution_count": 2,
   "metadata": {},
   "outputs": [],
   "source": [
    "from recipe_scrapers import scrape_me"
   ]
  },
  {
   "cell_type": "code",
   "execution_count": 3,
   "metadata": {},
   "outputs": [],
   "source": [
    "scraper = scrape_me(url)"
   ]
  },
  {
   "cell_type": "code",
   "execution_count": 5,
   "metadata": {},
   "outputs": [
    {
     "data": {
      "text/plain": [
       "['177.44 ml sugar',\n",
       " '14.79 ml margarine',\n",
       " '1 egg',\n",
       " '2 egg whites',\n",
       " '44.37 ml flour',\n",
       " '1.23 ml salt',\n",
       " '236.59 ml buttermilk',\n",
       " '118.29 ml graham cracker crumbs',\n",
       " '118.29 ml gingersnap crumbs',\n",
       " '29.58 ml margarine']"
      ]
     },
     "execution_count": 5,
     "metadata": {},
     "output_type": "execute_result"
    }
   ],
   "source": [
    "scraper.ingredients()"
   ]
  },
  {
   "cell_type": "markdown",
   "metadata": {},
   "source": [
    "### Search for unique tag"
   ]
  },
  {
   "cell_type": "code",
   "execution_count": 69,
   "metadata": {},
   "outputs": [],
   "source": [
    "unique_tag = recipes_df.explode('tags')['tags'].unique()"
   ]
  },
  {
   "cell_type": "code",
   "execution_count": 72,
   "metadata": {
    "scrolled": true
   },
   "outputs": [
    {
     "data": {
      "text/plain": [
       "['',\n",
       " '1-day-or-more',\n",
       " '15-minutes-or-less',\n",
       " '3-steps-or-less',\n",
       " '30-minutes-or-less',\n",
       " '4-hours-or-less',\n",
       " '5-ingredients-or-less',\n",
       " '60-minutes-or-less',\n",
       " 'Throw the ultimate fiesta with this sopaipillas recipe from Food.com.',\n",
       " 'a1-sauce',\n",
       " 'african',\n",
       " 'american',\n",
       " 'amish-mennonite',\n",
       " 'angolan',\n",
       " 'appetizers',\n",
       " 'apples',\n",
       " 'april-fools-day',\n",
       " 'argentine',\n",
       " 'artichoke',\n",
       " 'asian',\n",
       " 'asparagus',\n",
       " 'australian',\n",
       " 'austrian',\n",
       " 'avocado',\n",
       " 'bacon',\n",
       " 'baja',\n",
       " 'baked-beans',\n",
       " 'baking',\n",
       " 'bananas',\n",
       " 'bar-cookies',\n",
       " 'barbecue',\n",
       " 'bass',\n",
       " 'bean-soup',\n",
       " 'beans',\n",
       " 'beans-side-dishes',\n",
       " 'bear',\n",
       " 'beef',\n",
       " 'beef-barley-soup',\n",
       " 'beef-crock-pot',\n",
       " 'beef-kidney',\n",
       " 'beef-liver',\n",
       " 'beef-organ-meats',\n",
       " 'beef-ribs',\n",
       " 'beef-sauces',\n",
       " 'beef-sausage',\n",
       " 'beginner-cook',\n",
       " 'beijing',\n",
       " 'belgian',\n",
       " 'berries',\n",
       " 'beverages',\n",
       " 'birthday',\n",
       " 'biscotti',\n",
       " 'bisques-cream-soups',\n",
       " 'black-bean-soup',\n",
       " 'black-beans',\n",
       " 'blueberries',\n",
       " 'bok-choys',\n",
       " 'brazilian',\n",
       " 'bread-machine',\n",
       " 'bread-pudding',\n",
       " 'breads',\n",
       " 'breakfast',\n",
       " 'breakfast-casseroles',\n",
       " 'breakfast-eggs',\n",
       " 'breakfast-potatoes',\n",
       " 'brewing',\n",
       " 'british-columbian',\n",
       " 'broccoli',\n",
       " 'broil',\n",
       " 'brown-bag',\n",
       " 'brown-rice',\n",
       " 'brownies',\n",
       " 'brunch',\n",
       " 'burgers',\n",
       " 'cabbage',\n",
       " 'cajun',\n",
       " 'cake-fillings-and-frostings',\n",
       " 'cakes',\n",
       " 'californian',\n",
       " 'cambodian',\n",
       " 'camping',\n",
       " 'canadian',\n",
       " 'candy',\n",
       " 'canning',\n",
       " 'cantonese',\n",
       " 'caribbean',\n",
       " 'carrots',\n",
       " 'casseroles',\n",
       " 'catfish',\n",
       " 'cauliflower',\n",
       " 'celebrity',\n",
       " 'central-american',\n",
       " 'chard',\n",
       " 'cheese',\n",
       " 'cheesecake',\n",
       " 'cherries',\n",
       " 'chick-peas-garbanzos',\n",
       " 'chicken',\n",
       " 'chicken-breasts',\n",
       " 'chicken-crock-pot',\n",
       " 'chicken-livers',\n",
       " 'chicken-stew',\n",
       " 'chicken-stews',\n",
       " 'chicken-thighs-legs',\n",
       " 'chilean',\n",
       " 'chili',\n",
       " 'chinese',\n",
       " 'chinese-new-year',\n",
       " 'chocolate',\n",
       " 'chocolate-chip-cookies',\n",
       " 'chowders',\n",
       " 'christmas',\n",
       " 'chutneys',\n",
       " 'cinco-de-mayo',\n",
       " 'citrus',\n",
       " 'clams',\n",
       " 'clear-soups',\n",
       " 'cobblers-and-crisps',\n",
       " 'cocktails',\n",
       " 'coconut',\n",
       " 'cod',\n",
       " 'coffee-cakes',\n",
       " 'collard-greens',\n",
       " 'college',\n",
       " 'colombian',\n",
       " 'comfort-food',\n",
       " 'condiments-etc',\n",
       " 'congolese',\n",
       " 'cookies-and-brownies',\n",
       " 'cooking-mixes',\n",
       " 'copycat',\n",
       " 'corn',\n",
       " 'costa-rican',\n",
       " 'course',\n",
       " 'crab',\n",
       " 'cranberry-sauce',\n",
       " 'crawfish',\n",
       " 'creole',\n",
       " 'crock-pot-main-dish',\n",
       " 'crock-pot-slow-cooker',\n",
       " 'crusts-pastry-dough-2',\n",
       " 'cuban',\n",
       " 'cuisine',\n",
       " 'cupcakes',\n",
       " 'curries',\n",
       " 'czech',\n",
       " 'dairy-free',\n",
       " 'danish',\n",
       " 'deep-fry',\n",
       " 'deer',\n",
       " 'dehydrator',\n",
       " 'desserts',\n",
       " 'desserts-easy',\n",
       " 'desserts-fruit',\n",
       " 'diabetic',\n",
       " 'dietary',\n",
       " 'dinner-party',\n",
       " 'dips',\n",
       " 'dips-lunch-snacks',\n",
       " 'dips-summer',\n",
       " 'drop-cookies',\n",
       " 'duck',\n",
       " 'duck-breasts',\n",
       " 'dutch',\n",
       " 'easter',\n",
       " 'easy',\n",
       " 'ecuadorean',\n",
       " 'egg-free',\n",
       " 'eggplant',\n",
       " 'eggs',\n",
       " 'eggs-breakfast',\n",
       " 'eggs-dairy',\n",
       " 'egyptian',\n",
       " 'elbow-macaroni',\n",
       " 'elk',\n",
       " 'english',\n",
       " 'equipment',\n",
       " 'ethiopian',\n",
       " 'european',\n",
       " 'fall',\n",
       " 'fathers-day',\n",
       " 'filipino',\n",
       " 'fillings-and-frostings-chocolate',\n",
       " 'finger-food',\n",
       " 'finnish',\n",
       " 'fish',\n",
       " 'flat-shapes',\n",
       " 'food-processor-blender',\n",
       " 'for-1-or-2',\n",
       " 'for-large-groups',\n",
       " 'for-large-groups-holiday-event',\n",
       " 'free-of-something',\n",
       " 'freezer',\n",
       " 'french',\n",
       " 'freshwater-fish',\n",
       " 'from-scratch',\n",
       " 'frozen-desserts',\n",
       " 'fruit',\n",
       " 'fudge',\n",
       " 'garnishes',\n",
       " 'gelatin',\n",
       " 'georgian',\n",
       " 'german',\n",
       " 'gifts',\n",
       " 'gluten-free',\n",
       " 'goose',\n",
       " 'grains',\n",
       " 'granola-and-porridge',\n",
       " 'grapes',\n",
       " 'greek',\n",
       " 'green-yellow-beans',\n",
       " 'greens',\n",
       " 'grilling',\n",
       " 'ground-beef',\n",
       " 'guatemalan',\n",
       " 'gumbo',\n",
       " 'halibut',\n",
       " 'halloween',\n",
       " 'halloween-cakes',\n",
       " 'halloween-cocktails',\n",
       " 'halloween-cupcakes',\n",
       " 'ham',\n",
       " 'ham-and-bean-soup',\n",
       " 'hand-formed-cookies',\n",
       " 'hanukkah',\n",
       " 'hawaiian',\n",
       " 'healthy',\n",
       " 'healthy-2',\n",
       " 'heirloom-historical',\n",
       " 'heirloom-historical-recipes',\n",
       " 'herb-and-spice-mixes',\n",
       " 'hidden-valley-ranch',\n",
       " 'high-calcium',\n",
       " 'high-fiber',\n",
       " 'high-in-something',\n",
       " 'high-in-something-diabetic-friendly',\n",
       " 'high-protein',\n",
       " 'holiday-event',\n",
       " 'honduran',\n",
       " 'hunan',\n",
       " 'hungarian',\n",
       " 'ice-cream',\n",
       " 'icelandic',\n",
       " 'independence-day',\n",
       " 'indian',\n",
       " 'indonesian',\n",
       " 'inexpensive',\n",
       " 'infant-baby-friendly',\n",
       " 'iranian-persian',\n",
       " 'iraqi',\n",
       " 'irish',\n",
       " 'irish-st-patricks-day',\n",
       " 'italian',\n",
       " 'jams-and-preserves',\n",
       " 'japanese',\n",
       " 'jellies',\n",
       " 'jewish-ashkenazi',\n",
       " 'jewish-sephardi',\n",
       " 'kid-friendly',\n",
       " 'kiwifruit',\n",
       " 'korean',\n",
       " 'kosher',\n",
       " 'kwanzaa',\n",
       " 'labor-day',\n",
       " 'lactose',\n",
       " 'lamb-sheep',\n",
       " 'lamb-sheep-main-dish',\n",
       " 'laotian',\n",
       " 'lasagna',\n",
       " 'lasagne',\n",
       " 'lebanese',\n",
       " 'leftovers',\n",
       " 'lemon',\n",
       " 'lentils',\n",
       " 'less_thansql:name_topics_of_recipegreater_than',\n",
       " 'lettuces',\n",
       " 'libyan',\n",
       " 'lime',\n",
       " 'lobster',\n",
       " 'long-grain-rice',\n",
       " 'low-calorie',\n",
       " 'low-carb',\n",
       " 'low-cholesterol',\n",
       " 'low-fat',\n",
       " 'low-in-something',\n",
       " 'low-protein',\n",
       " 'low-saturated-fat',\n",
       " 'low-sodium',\n",
       " 'lunch',\n",
       " 'macaroni-and-cheese',\n",
       " 'mahi-mahi',\n",
       " 'main-dish',\n",
       " 'main-dish-beef',\n",
       " 'main-dish-chicken',\n",
       " 'main-dish-pasta',\n",
       " 'main-dish-pork',\n",
       " 'main-dish-seafood',\n",
       " 'main-ingredient',\n",
       " 'malaysian',\n",
       " 'mango',\n",
       " 'manicotti',\n",
       " 'mardi-gras-carnival',\n",
       " 'marinades-and-rubs',\n",
       " 'marinara-sauce',\n",
       " 'mashed-potatoes',\n",
       " 'meat',\n",
       " 'meatballs',\n",
       " 'meatloaf',\n",
       " 'medium-grain-rice',\n",
       " 'melons',\n",
       " 'memorial-day',\n",
       " 'mexican',\n",
       " 'micro-melanesia',\n",
       " 'microwave',\n",
       " 'middle-eastern',\n",
       " 'middle-eastern-main-dish',\n",
       " 'midwestern',\n",
       " 'mixer',\n",
       " 'mongolian',\n",
       " 'moose',\n",
       " 'moroccan',\n",
       " 'mothers-day',\n",
       " 'muffins',\n",
       " 'mushroom-soup',\n",
       " 'mushrooms',\n",
       " 'mussels',\n",
       " 'namibian',\n",
       " 'native-american',\n",
       " 'nepalese',\n",
       " 'new-years',\n",
       " 'new-zealand',\n",
       " 'nigerian',\n",
       " 'no-cook',\n",
       " 'no-shell-fish',\n",
       " 'non-alcoholic',\n",
       " 'north-american',\n",
       " 'northeastern-united-states',\n",
       " 'norwegian',\n",
       " 'novelty',\n",
       " 'number-of-servings',\n",
       " 'nut-free',\n",
       " 'nuts',\n",
       " 'oamc-freezer-make-ahead',\n",
       " 'oatmeal',\n",
       " 'oaxacan',\n",
       " 'occasion',\n",
       " 'octopus',\n",
       " 'omelets-and-frittatas',\n",
       " 'one-dish-meal',\n",
       " 'onions',\n",
       " 'ontario',\n",
       " 'orange-roughy',\n",
       " 'oranges',\n",
       " 'oven',\n",
       " 'oysters',\n",
       " 'pacific-northwest',\n",
       " 'pakistani',\n",
       " 'palestinian',\n",
       " 'pancakes-and-waffles',\n",
       " 'papaya',\n",
       " 'passover',\n",
       " 'pasta',\n",
       " 'pasta-elbow-macaroni',\n",
       " 'pasta-rice-and-grains',\n",
       " 'pasta-rice-and-grains-elbow-macaroni',\n",
       " 'pasta-salad',\n",
       " 'pasta-shells',\n",
       " 'peaches',\n",
       " 'peanut-butter',\n",
       " 'pears',\n",
       " 'penne',\n",
       " 'pennsylvania-dutch',\n",
       " 'peppers',\n",
       " 'perch',\n",
       " 'peruvian',\n",
       " 'pheasant',\n",
       " 'pickeral',\n",
       " 'picnic',\n",
       " 'pies',\n",
       " 'pies-and-tarts',\n",
       " 'pineapple',\n",
       " 'pitted-fruit',\n",
       " 'pizza',\n",
       " 'plums',\n",
       " 'polish',\n",
       " 'polynesian',\n",
       " 'pork',\n",
       " 'pork-chops',\n",
       " 'pork-crock-pot',\n",
       " 'pork-loin',\n",
       " 'pork-loins',\n",
       " 'pork-loins-roast',\n",
       " 'pork-ribs',\n",
       " 'pork-sausage',\n",
       " 'portuguese',\n",
       " 'pot-pie',\n",
       " 'pot-roast',\n",
       " 'potatoes',\n",
       " 'potluck',\n",
       " 'poultry',\n",
       " 'preparation',\n",
       " 'prepared-potatoes',\n",
       " 'presentation',\n",
       " 'pressure-canning',\n",
       " 'pressure-cooker',\n",
       " 'puddings-and-mousses',\n",
       " 'puerto-rican',\n",
       " 'pumpkin',\n",
       " 'pumpkin-bread',\n",
       " 'punch',\n",
       " 'quail',\n",
       " 'quebec',\n",
       " 'quiche',\n",
       " 'quick-breads',\n",
       " 'rabbit',\n",
       " 'ragu-recipe-contest',\n",
       " 'ramadan',\n",
       " 'raspberries',\n",
       " 'ravioli-tortellini',\n",
       " 'refrigerator',\n",
       " 'reynolds-wrap',\n",
       " 'rice',\n",
       " 'roast',\n",
       " 'roast-beef',\n",
       " 'roast-beef-comfort-food',\n",
       " 'roast-beef-main-dish',\n",
       " 'rolled-cookies',\n",
       " 'rolls-biscuits',\n",
       " 'romantic',\n",
       " 'rosh-hashana',\n",
       " 'rosh-hashanah',\n",
       " 'russian',\n",
       " 'salad-dressings',\n",
       " 'salads',\n",
       " 'salmon',\n",
       " 'salsas',\n",
       " 'saltwater-fish',\n",
       " 'sandwiches',\n",
       " 'sauces',\n",
       " 'saudi-arabian',\n",
       " 'savory',\n",
       " 'savory-pies',\n",
       " 'savory-sauces',\n",
       " 'scallops',\n",
       " 'scandinavian',\n",
       " 'scones',\n",
       " 'scottish',\n",
       " 'seafood',\n",
       " 'seasonal',\n",
       " 'served-cold',\n",
       " 'served-hot',\n",
       " 'served-hot-new-years',\n",
       " 'shakes',\n",
       " 'shellfish',\n",
       " 'short-grain-rice',\n",
       " 'shrimp',\n",
       " 'shrimp-main-dish',\n",
       " 'side-dishes',\n",
       " 'side-dishes-beans',\n",
       " 'simply-potatoes',\n",
       " 'simply-potatoes2',\n",
       " 'small-appliance',\n",
       " 'smoker',\n",
       " 'smoothies',\n",
       " 'snacks',\n",
       " 'snacks-kid-friendly',\n",
       " 'snacks-sweet',\n",
       " 'sole-and-flounder',\n",
       " 'somalian',\n",
       " 'soul',\n",
       " 'soups-stews',\n",
       " 'sourdough',\n",
       " 'south-african',\n",
       " 'south-american',\n",
       " 'south-west-pacific',\n",
       " 'southern-united-states',\n",
       " 'southwestern-united-states',\n",
       " 'soy-tofu',\n",
       " 'spaghetti',\n",
       " 'spaghetti-sauce',\n",
       " 'spanish',\n",
       " 'spicy',\n",
       " 'spinach',\n",
       " 'spreads',\n",
       " 'spring',\n",
       " 'squash',\n",
       " 'squid',\n",
       " 'st-patricks-day',\n",
       " 'steak',\n",
       " 'steaks',\n",
       " 'steam',\n",
       " 'stews',\n",
       " 'stews-poultry',\n",
       " 'stir-fry',\n",
       " 'stocks',\n",
       " 'stove-top',\n",
       " 'strawberries',\n",
       " 'stuffings-dressings',\n",
       " 'sudanese',\n",
       " 'sugar-cookies',\n",
       " 'summer',\n",
       " 'super-bowl',\n",
       " 'superbowl',\n",
       " 'swedish',\n",
       " 'sweet',\n",
       " 'sweet-sauces',\n",
       " 'swiss',\n",
       " 'szechuan',\n",
       " 'tarts',\n",
       " 'taste-mood',\n",
       " 'technique',\n",
       " 'tempeh',\n",
       " 'tex-mex',\n",
       " 'thai',\n",
       " 'thanksgiving',\n",
       " 'tilapia',\n",
       " 'time-to-make',\n",
       " 'to-go',\n",
       " 'toddler-friendly',\n",
       " 'tomatoes',\n",
       " 'tropical-fruit',\n",
       " 'trout',\n",
       " 'tuna',\n",
       " 'turkey',\n",
       " 'turkey-breasts',\n",
       " 'turkey-burgers',\n",
       " 'turkish',\n",
       " 'unprocessed-freezer',\n",
       " 'valentines-day',\n",
       " 'veal',\n",
       " 'vegan',\n",
       " 'vegetables',\n",
       " 'vegetarian',\n",
       " 'veggie-burgers',\n",
       " 'venezuelan',\n",
       " 'very-low-carbs',\n",
       " 'vietnamese',\n",
       " 'water-bath',\n",
       " 'wedding',\n",
       " 'weeknight',\n",
       " 'welsh',\n",
       " 'white-rice',\n",
       " 'whitefish',\n",
       " 'whole-chicken',\n",
       " 'whole-duck',\n",
       " 'whole-turkey',\n",
       " 'wild-game',\n",
       " 'wings',\n",
       " 'winter',\n",
       " 'yams-sweet-potatoes',\n",
       " 'yeast',\n",
       " 'zucchini']"
      ]
     },
     "execution_count": 72,
     "metadata": {},
     "output_type": "execute_result"
    }
   ],
   "source": [
    "sorted(unique_tag.tolist())"
   ]
  }
 ],
 "metadata": {
  "kernelspec": {
   "display_name": "PyCharm (02 - Data From The Web)",
   "language": "python",
   "name": "pycharm-33a21fd9"
  },
  "language_info": {
   "codemirror_mode": {
    "name": "ipython",
    "version": 3
   },
   "file_extension": ".py",
   "mimetype": "text/x-python",
   "name": "python",
   "nbconvert_exporter": "python",
   "pygments_lexer": "ipython3",
   "version": "3.6.9"
  }
 },
 "nbformat": 4,
 "nbformat_minor": 2
}
