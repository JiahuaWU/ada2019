{
 "cells": [
  {
   "cell_type": "code",
   "execution_count": 1,
   "metadata": {},
   "outputs": [],
   "source": [
    "import pandas as pd\n",
    "import ast\n",
    "import matplotlib\n",
    "import matplotlib.pyplot as plt\n",
    "import numpy as np"
   ]
  },
  {
   "cell_type": "code",
   "execution_count": 2,
   "metadata": {},
   "outputs": [],
   "source": [
    "recipes_df = pd.read_csv('RAW_recipes.csv')\n",
    "interactions_df = pd.read_csv('RAW_interactions.csv')"
   ]
  },
  {
   "cell_type": "code",
   "execution_count": 3,
   "metadata": {},
   "outputs": [],
   "source": [
    "nutritions_list = [\"calories\", \"total_fat\", \"sugar\", \"sodium\", \"protein\", \"sat_fat\", \"carbs\"]"
   ]
  },
  {
   "cell_type": "code",
   "execution_count": 4,
   "metadata": {},
   "outputs": [],
   "source": [
    "recipes_df['nutrition'] = recipes_df['nutrition'].apply(ast.literal_eval)"
   ]
  },
  {
   "cell_type": "code",
   "execution_count": 5,
   "metadata": {},
   "outputs": [],
   "source": [
    "recipes_df[nutritions_list] = pd.DataFrame(recipes_df.nutrition.values.tolist(), index=recipes_df.index)"
   ]
  },
  {
   "cell_type": "code",
   "execution_count": 6,
   "metadata": {},
   "outputs": [],
   "source": [
    "recipes_df = recipes_df.drop(['nutrition'], axis=1)"
   ]
  },
  {
   "cell_type": "code",
   "execution_count": 7,
   "metadata": {
    "scrolled": true
   },
   "outputs": [
    {
     "data": {
      "text/plain": [
       "name               True\n",
       "id                False\n",
       "minutes           False\n",
       "contributor_id    False\n",
       "submitted         False\n",
       "tags              False\n",
       "n_steps           False\n",
       "steps             False\n",
       "description        True\n",
       "ingredients       False\n",
       "n_ingredients     False\n",
       "calories          False\n",
       "total_fat         False\n",
       "sugar             False\n",
       "sodium            False\n",
       "protein           False\n",
       "sat_fat           False\n",
       "carbs             False\n",
       "dtype: bool"
      ]
     },
     "execution_count": 7,
     "metadata": {},
     "output_type": "execute_result"
    }
   ],
   "source": [
    "recipes_df.isnull().any()"
   ]
  },
  {
   "cell_type": "code",
   "execution_count": 8,
   "metadata": {
    "scrolled": true
   },
   "outputs": [],
   "source": [
    "recipes_df = recipes_df.dropna(axis=0).reset_index(drop=True)"
   ]
  },
  {
   "cell_type": "code",
   "execution_count": 9,
   "metadata": {},
   "outputs": [
    {
     "data": {
      "text/plain": [
       "user_id      False\n",
       "recipe_id    False\n",
       "date         False\n",
       "rating       False\n",
       "review        True\n",
       "dtype: bool"
      ]
     },
     "execution_count": 9,
     "metadata": {},
     "output_type": "execute_result"
    }
   ],
   "source": [
    "interactions_df.isnull().any()"
   ]
  },
  {
   "cell_type": "code",
   "execution_count": 10,
   "metadata": {},
   "outputs": [],
   "source": [
    "interactions_df = interactions_df.dropna(axis=0)"
   ]
  },
  {
   "cell_type": "code",
   "execution_count": 11,
   "metadata": {},
   "outputs": [],
   "source": [
    "complete_df = recipes_df.merge(interactions_df, left_on='id', right_on='recipe_id')"
   ]
  },
  {
   "cell_type": "code",
   "execution_count": 12,
   "metadata": {},
   "outputs": [],
   "source": [
    "complete_df = complete_df[complete_df['minutes'] <= 500].reset_index(drop=True)"
   ]
  },
  {
   "cell_type": "code",
   "execution_count": 13,
   "metadata": {
    "scrolled": true
   },
   "outputs": [
    {
     "data": {
      "text/plain": [
       "<matplotlib.axes._subplots.AxesSubplot at 0x1460cca90>"
      ]
     },
     "execution_count": 13,
     "metadata": {},
     "output_type": "execute_result"
    }
   ],
   "source": [
    "complete_df['minutes'].hist()"
   ]
  },
  {
   "cell_type": "code",
   "execution_count": 14,
   "metadata": {},
   "outputs": [
    {
     "data": {
      "text/plain": [
       "<matplotlib.axes._subplots.AxesSubplot at 0x1460003c8>"
      ]
     },
     "execution_count": 14,
     "metadata": {},
     "output_type": "execute_result"
    },
    {
     "data": {
      "image/png": "[encoded data removed]",
      "text/plain": [
       "<Figure size 432x288 with 1 Axes>"
      ]
     },
     "metadata": {
      "needs_background": "light"
     },
     "output_type": "display_data"
    }
   ],
   "source": [
    "complete_df['rating'].hist()"
   ]
  },
  {
   "cell_type": "code",
   "execution_count": 15,
   "metadata": {
    "scrolled": true
   },
   "outputs": [
    {
     "data": {
      "text/plain": [
       "'best banana bread'"
      ]
     },
     "execution_count": 15,
     "metadata": {},
     "output_type": "execute_result"
    }
   ],
   "source": [
    "# Most reviewed recipe\n",
    "complete_df.groupby('name').count().idxmax()[0]"
   ]
  },
  {
   "cell_type": "markdown",
   "metadata": {},
   "source": [
    "### How number of reviews related to n_steps, time, each nutrition component and the ratings of others?"
   ]
  },
  {
   "cell_type": "markdown",
   "metadata": {},
   "source": [
    "Here we try to get the relation between number of reviews and different features, we hope to see that recipes that are more time consuming receive less reviews since less people try them."
   ]
  },
  {
   "cell_type": "code",
   "execution_count": 16,
   "metadata": {},
   "outputs": [],
   "source": [
    "num_reviews_df = complete_df.groupby('id').count()"
   ]
  },
  {
   "cell_type": "code",
   "execution_count": 17,
   "metadata": {
    "scrolled": false
   },
   "outputs": [],
   "source": [
    "df = recipes_df.merge(num_reviews_df[['name']].copy(), left_on='id', right_on='id')\\\n",
    "               .rename(columns={'name_y': 'count'})[['count', 'minutes', 'n_steps', 'n_ingredients'] + nutritions_list]"
   ]
  },
  {
   "cell_type": "code",
   "execution_count": 18,
   "metadata": {},
   "outputs": [],
   "source": [
    "df = df.rename(columns={'count': 'num_reviews'})"
   ]
  },
  {
   "cell_type": "code",
   "execution_count": 22,
   "metadata": {},
   "outputs": [],
   "source": [
    "# the following two functions are from the internet to help plot the heatmaps\n",
    "# https://matplotlib.org/3.1.1/gallery/images_contours_and_fields/image_annotated_heatmap.html\n",
    "def heatmap(data, row_labels, col_labels, ax=None,\n",
    "            cbar_kw={}, cbarlabel=\"\", **kwargs):\n",
    "    \"\"\"\n",
    "    Create a heatmap from a numpy array and two lists of labels.\n",
    "\n",
    "    Parameters\n",
    "    ----------\n",
    "    data\n",
    "        A 2D numpy array of shape (N, M).\n",
    "    row_labels\n",
    "        A list or array of length N with the labels for the rows.\n",
    "    col_labels\n",
    "        A list or array of length M with the labels for the columns.\n",
    "    ax\n",
    "        A `matplotlib.axes.Axes` instance to which the heatmap is plotted.  If\n",
    "        not provided, use current axes or create a new one.  Optional.\n",
    "    cbar_kw\n",
    "        A dictionary with arguments to `matplotlib.Figure.colorbar`.  Optional.\n",
    "    cbarlabel\n",
    "        The label for the colorbar.  Optional.\n",
    "    **kwargs\n",
    "        All other arguments are forwarded to `imshow`.\n",
    "    \"\"\"\n",
    "\n",
    "    if not ax:\n",
    "        ax = plt.gca()\n",
    "\n",
    "    # Plot the heatmap\n",
    "    im = ax.imshow(data, **kwargs)\n",
    "\n",
    "    # Create colorbar\n",
    "    cbar = ax.figure.colorbar(im, ax=ax, **cbar_kw, fraction=0.046, pad=0.04)\n",
    "    cbar.ax.set_ylabel(cbarlabel, rotation=-90, va=\"bottom\")\n",
    "\n",
    "    # We want to show all ticks...\n",
    "    ax.set_xticks(np.arange(data.shape[1]))\n",
    "    ax.set_yticks(np.arange(data.shape[0]))\n",
    "    # ... and label them with the respective list entries.\n",
    "    ax.set_xticklabels(col_labels)\n",
    "    ax.set_yticklabels(row_labels)\n",
    "\n",
    "    # Let the horizontal axes labeling appear on top.\n",
    "    ax.tick_params(top=True, bottom=False,\n",
    "                   labeltop=True, labelbottom=False)\n",
    "\n",
    "    # Rotate the tick labels and set their alignment.\n",
    "    plt.setp(ax.get_xticklabels(), rotation=-30, ha=\"right\",\n",
    "             rotation_mode=\"anchor\")\n",
    "\n",
    "    # Turn spines off and create white grid.\n",
    "    for edge, spine in ax.spines.items():\n",
    "        spine.set_visible(False)\n",
    "\n",
    "    ax.set_xticks(np.arange(data.shape[1]+1)-.5, minor=True)\n",
    "    ax.set_yticks(np.arange(data.shape[0]+1)-.5, minor=True)\n",
    "    ax.grid(which=\"minor\", color=\"w\", linestyle='-', linewidth=3)\n",
    "    ax.tick_params(which=\"minor\", bottom=False, left=False)\n",
    "\n",
    "    return im, cbar\n",
    "\n",
    "\n",
    "def annotate_heatmap(im, data=None, valfmt=\"{x:.2f}\",\n",
    "                     textcolors=[\"black\", \"white\"],\n",
    "                     threshold=None, **textkw):\n",
    "    \"\"\"\n",
    "    A function to annotate a heatmap.\n",
    "\n",
    "    Parameters\n",
    "    ----------\n",
    "    im\n",
    "        The AxesImage to be labeled.\n",
    "    data\n",
    "        Data used to annotate.  If None, the image's data is used.  Optional.\n",
    "    valfmt\n",
    "        The format of the annotations inside the heatmap.  This should either\n",
    "        use the string format method, e.g. \"$ {x:.2f}\", or be a\n",
    "        `matplotlib.ticker.Formatter`.  Optional.\n",
    "    textcolors\n",
    "        A list or array of two color specifications.  The first is used for\n",
    "        values below a threshold, the second for those above.  Optional.\n",
    "    threshold\n",
    "        Value in data units according to which the colors from textcolors are\n",
    "        applied.  If None (the default) uses the middle of the colormap as\n",
    "        separation.  Optional.\n",
    "    **kwargs\n",
    "        All other arguments are forwarded to each call to `text` used to create\n",
    "        the text labels.\n",
    "    \"\"\"\n",
    "\n",
    "    if not isinstance(data, (list, np.ndarray)):\n",
    "        data = im.get_array()\n",
    "\n",
    "    # Normalize the threshold to the images color range.\n",
    "    if threshold is not None:\n",
    "        threshold = im.norm(threshold)\n",
    "    else:\n",
    "        threshold = im.norm(data.max())/2.\n",
    "\n",
    "    # Set default alignment to center, but allow it to be\n",
    "    # overwritten by textkw.\n",
    "    kw = dict(horizontalalignment=\"center\",\n",
    "              verticalalignment=\"center\")\n",
    "    kw.update(textkw)\n",
    "\n",
    "    # Get the formatter in case a string is supplied\n",
    "    if isinstance(valfmt, str):\n",
    "        valfmt = matplotlib.ticker.StrMethodFormatter(valfmt)\n",
    "\n",
    "    # Loop over the data and create a `Text` for each \"pixel\".\n",
    "    # Change the text's color depending on the data.\n",
    "    texts = []\n",
    "    for i in range(data.shape[0]):\n",
    "        for j in range(data.shape[1]):\n",
    "            kw.update(color=textcolors[int(im.norm(data[i, j]) > threshold)])\n",
    "            text = im.axes.text(j, i, valfmt(data[i, j], None), **kw)\n",
    "            texts.append(text)\n",
    "\n",
    "    return texts"
   ]
  },
  {
   "cell_type": "code",
   "execution_count": 26,
   "metadata": {},
   "outputs": [
    {
     "data": {
      "image/png": "[encoded data removed]",
      "text/plain": [
       "<Figure size 720x720 with 2 Axes>"
      ]
     },
     "metadata": {
      "needs_background": "light"
     },
     "output_type": "display_data"
    }
   ],
   "source": [
    "# Plotting setting\n",
    "fig, ax = plt.subplots(figsize=(10,10))\n",
    "fig.suptitle('correlations between different features')        \n",
    "im, cbar = heatmap(data=df.corr(method='spearman'), row_labels=df.columns, col_labels=df.columns, ax=ax,\n",
    "                   cmap=\"OrRd\", cbarlabel=\"spearman correlation\")\n",
    "texts = annotate_heatmap(im, valfmt=\"{x:.3f}\", threshold=1)\n",
    "fig.tight_layout()\n",
    "plt.show()"
   ]
  },
  {
   "cell_type": "markdown",
   "metadata": {},
   "source": [
    "We can see that the number of reviews has little to do with other features and it turns out to be somewhat random. In contrast, we find some strong correlation between different nutrition components in the recipe (e.g. total fat with calories(food with high fat usually has high calories), protein with calories, total fat with saturated fat, carbs with calories)"
   ]
  },
  {
   "cell_type": "markdown",
   "metadata": {},
   "source": [
    "### Get the taste of each recipe"
   ]
  },
  {
   "cell_type": "markdown",
   "metadata": {},
   "source": [
    "To get an estimation of the taste of different dishes, we search for words indicating different types of taste in the tags, reviews and descriptions. Then we collect the taste of each recipe in a set as a new column."
   ]
  },
  {
   "cell_type": "code",
   "execution_count": 118,
   "metadata": {},
   "outputs": [],
   "source": [
    "# Words for different taste catagory\n",
    "taste_word_dict = {'sour': ['acid', 'acidic', 'sour', 'tart', 'vinegary', 'citrus', 'lemon'],\n",
    "                   'bitter': ['bitter', 'harsh'],\n",
    "                   'salty': ['brackish', 'salty', 'briny', 'saline'],\n",
    "                   'sweet': ['dulcet', 'sweet', 'honeyed', 'dulcified', 'edulcorated', 'sweetened', 'candied','syrupy', 'sugarcoated', 'nectarous', 'candy', 'fudge'],\n",
    "                   'spicy': ['spicy','peppery', 'piquant', 'pungent', 'burning', 'fiery', 'gingery', 'sharp', 'stinging', 'zesty', 'sugary', 'chili', 'chutneys', 'curries', 'peppers']}"
   ]
  },
  {
   "cell_type": "code",
   "execution_count": 119,
   "metadata": {
    "scrolled": true
   },
   "outputs": [
    {
     "name": "stderr",
     "output_type": "stream",
     "text": [
      "/Users/jiahuawu/anaconda3/lib/python3.6/site-packages/pandas/core/indexing.py:205: SettingWithCopyWarning: \n",
      "A value is trying to be set on a copy of a slice from a DataFrame\n",
      "\n",
      "See the caveats in the documentation: http://pandas.pydata.org/pandas-docs/stable/user_guide/indexing.html#returning-a-view-versus-a-copy\n",
      "  self._setitem_with_indexer(indexer, value)\n"
     ]
    }
   ],
   "source": [
    "# Take out \n",
    "for taste in taste_word_dict.keys():\n",
    "    recipes = complete_df.review.str.lower().apply(lambda x: any(word in x for word in taste_word_dict[taste]))\\\n",
    "              | complete_df.tags.apply(lambda x: any(word in x for word in taste_word_dict[taste]))\\\n",
    "              | complete_df.description.str.lower().apply(lambda x: any(word in x for word in taste_word_dict[taste]))\n",
    "    complete_df.taste.loc[recipes] = complete_df[recipes].taste.apply(lambda l:l + [taste])"
   ]
  },
  {
   "cell_type": "code",
   "execution_count": 120,
   "metadata": {
    "scrolled": false
   },
   "outputs": [],
   "source": [
    "taste_df = complete_df[complete_df.taste.apply(lambda l: len(l) > 0)].groupby(['id', 'name']).agg({'taste':'sum'})\n",
    "taste_df['taste'] = taste_df['taste'].apply(set)"
   ]
  },
  {
   "cell_type": "code",
   "execution_count": 123,
   "metadata": {},
   "outputs": [],
   "source": [
    "taste_df.to_csv('taste_df.csv')"
   ]
  },
  {
   "cell_type": "code",
   "execution_count": 128,
   "metadata": {},
   "outputs": [],
   "source": [
    "taste_recipes_df = taste_df.merge(recipes_df, left_on='id', right_on='id').drop('taste_y', axis=1).rename(columns={'taste_x': 'taste'})"
   ]
  },
  {
   "cell_type": "code",
   "execution_count": null,
   "metadata": {},
   "outputs": [],
   "source": [
    "taste_recipes_df.to_csv('recipe+taste.csv')"
   ]
  },
  {
   "cell_type": "markdown",
   "metadata": {},
   "source": [
    "### Representative Taste of Recipe of Each Country"
   ]
  },
  {
   "cell_type": "code",
   "execution_count": 26,
   "metadata": {},
   "outputs": [],
   "source": [
    "taste_recipes_df = pd.read_csv('recipe+taste.csv')"
   ]
  },
  {
   "cell_type": "code",
   "execution_count": 139,
   "metadata": {},
   "outputs": [],
   "source": [
    "recipes_country_df = pd.read_pickle('recipe_country.pkl')"
   ]
  },
  {
   "cell_type": "code",
   "execution_count": 143,
   "metadata": {},
   "outputs": [],
   "source": [
    "cols_to_use = recipes_country_df.columns.difference(taste_recipes_df.columns)\n",
    "cols_list = cols_to_use.tolist()\n",
    "cols_list.append('id')\n",
    "cols_list.remove('nutrition')"
   ]
  },
  {
   "cell_type": "code",
   "execution_count": 145,
   "metadata": {},
   "outputs": [],
   "source": [
    "taste_continent_df = recipes_country_df[['continent', 'country', 'id']].merge(taste_recipes_df[['taste', 'id']], left_on='id', right_on='id')\n",
    "taste_continent_df.taste = taste_continent_df.taste.apply(eval).apply(list)\n",
    "best_taste_country_df = taste_continent_df.explode('taste').groupby(['country', 'taste'])['id'].count()\\\n",
    "                        .groupby('country').nlargest(1).to_frame().droplevel(0).reset_index()\n",
    "best_taste_country_df = best_taste_country_df.rename(columns={'id': 'count'})"
   ]
  },
  {
   "cell_type": "markdown",
   "metadata": {},
   "source": [
    "### Drawing the corresponding choropleth map"
   ]
  },
  {
   "cell_type": "code",
   "execution_count": 150,
   "metadata": {},
   "outputs": [],
   "source": [
    "import geopandas\n",
    "from matplotlib import cm\n",
    "%matplotlib inline"
   ]
  },
  {
   "cell_type": "code",
   "execution_count": 151,
   "metadata": {},
   "outputs": [],
   "source": [
    "world = geopandas.read_file(geopandas.datasets.get_path('naturalearth_lowres'))"
   ]
  },
  {
   "cell_type": "code",
   "execution_count": 152,
   "metadata": {
    "scrolled": true
   },
   "outputs": [],
   "source": [
    "invalid_indices = []\n",
    "for ind, country in enumerate(best_taste_country_df.country):\n",
    "    if country not in world.name.tolist():\n",
    "        invalid_indices.append(ind)"
   ]
  },
  {
   "cell_type": "code",
   "execution_count": 155,
   "metadata": {},
   "outputs": [],
   "source": [
    "best_taste_country_df = best_taste_country_df[~best_taste_country_df.country.isin(['Caribbean', 'Hawaii', 'Melanesia', 'Polynesia'])].reset_index(drop=True)"
   ]
  },
  {
   "cell_type": "code",
   "execution_count": 156,
   "metadata": {},
   "outputs": [],
   "source": [
    "map_country_name = {'America': 'United States of America', 'Korea': 'South Korea', 'Lao':'Laos', 'Lybia': 'Libya',\n",
    "                   'Melanesia': 'Malaysia', 'Morocca': 'Morocco', 'UK': 'United Kingdom'}"
   ]
  },
  {
   "cell_type": "code",
   "execution_count": 157,
   "metadata": {},
   "outputs": [],
   "source": [
    "def helper(country):\n",
    "    if country in map_country_name:\n",
    "        return map_country_name[country]\n",
    "    else:\n",
    "        return country"
   ]
  },
  {
   "cell_type": "code",
   "execution_count": 158,
   "metadata": {
    "scrolled": true
   },
   "outputs": [],
   "source": [
    "best_taste_country_df.country = best_taste_country_df.country.apply(helper)"
   ]
  },
  {
   "cell_type": "code",
   "execution_count": 159,
   "metadata": {},
   "outputs": [],
   "source": [
    "merged = world.set_index('name').join(best_taste_country_df.set_index('country'))"
   ]
  },
  {
   "cell_type": "code",
   "execution_count": 160,
   "metadata": {},
   "outputs": [],
   "source": [
    "merged.drop('count', axis=1, inplace=True)"
   ]
  },
  {
   "cell_type": "code",
   "execution_count": 161,
   "metadata": {},
   "outputs": [],
   "source": [
    "merged.taste = merged.taste.fillna('No Data')"
   ]
  },
  {
   "cell_type": "code",
   "execution_count": 166,
   "metadata": {},
   "outputs": [],
   "source": [
    "color_dict = {}\n",
    "color_dict['No Data'] = 'lightgray'\n",
    "color_dict['spicy'] = 'red'\n",
    "color_dict['sour'] = 'green'\n",
    "color_dict['sweet'] = 'blue'"
   ]
  },
  {
   "cell_type": "code",
   "execution_count": 182,
   "metadata": {},
   "outputs": [
    {
     "data": {
      "text/plain": [
       "<matplotlib.axes._subplots.AxesSubplot at 0x1223f0be0>"
      ]
     },
     "execution_count": 182,
     "metadata": {},
     "output_type": "execute_result"
    },
    {
     "data": {
      "image/png": "[encoded data removed]",
      "text/plain": [
       "<Figure size 1080x1080 with 1 Axes>"
      ]
     },
     "metadata": {
      "needs_background": "light"
     },
     "output_type": "display_data"
    }
   ],
   "source": [
    "from matplotlib import colors\n",
    "cmap = colors.ListedColormap(['lightgray', 'green', 'red', 'blue'])\n",
    "merged.plot(column='taste', categorical=True, legend=True, figsize=(15,15), cmap=cmap)"
   ]
  },
  {
   "cell_type": "markdown",
   "metadata": {},
   "source": [
    "We can see that spicy recipes are related to the southeast Asia, Mexico, India, China and Spain, which is in line with  common sense. Similarly, sweet recipes are related to north America, Oceania. What is surprising is the representative taste of the recipes of most of the european countries is sour."
   ]
  },
  {
   "cell_type": "markdown",
   "metadata": {},
   "source": [
    "## Scrape from food.com to complete the usage of each ingredient"
   ]
  },
  {
   "cell_type": "markdown",
   "metadata": {},
   "source": [
    "Here we scrape the data from food.com to complete the dose of each ingredient which is missing in the original dataset. We intend to use them to build a regression model capable of predicting the amount of nutrients based on the provided cooking method, ingredients and their amount. "
   ]
  },
  {
   "cell_type": "code",
   "execution_count": 11,
   "metadata": {},
   "outputs": [],
   "source": [
    "taste_recipes_df = pd.read_csv('recipe+taste.csv')"
   ]
  },
  {
   "cell_type": "code",
   "execution_count": 12,
   "metadata": {},
   "outputs": [],
   "source": [
    "cooking_method_recipes_df = pd.read_pickle('recipe_cooking.pkl')"
   ]
  },
  {
   "cell_type": "code",
   "execution_count": 4,
   "metadata": {},
   "outputs": [],
   "source": [
    "training_df = taste_recipes_df[['id', 'taste', 'ingredients', \n",
    "                                     'calories', 'total_fat', 'sugar', 'sodium', 'protein', 'sat_fat', 'carbs']]\\\n",
    "                   .merge(cooking_method_recipes_df[['id', 'method', 'name']], left_on='id', right_on='id')"
   ]
  },
  {
   "cell_type": "code",
   "execution_count": 6,
   "metadata": {},
   "outputs": [],
   "source": [
    "from recipe_scrapers import scrape_me"
   ]
  },
  {
   "cell_type": "code",
   "execution_count": 16,
   "metadata": {
    "scrolled": true
   },
   "outputs": [
    {
     "name": "stdout",
     "output_type": "stream",
     "text": [
      "0 requests finished\n",
      "100 requests finished\n",
      "https://www.food.com/recipe/snickers-bar-copycat-3422?mode=Metric&scaleto=8\n",
      "https://www.food.com/recipe/hooters-buffalo-wings-3603?mode=Metric&scaleto=8\n",
      "200 requests finished\n",
      "https://www.food.com/recipe/bailey-s-original-irish-cream-by-todd-wilbur-5008?mode=Metric&scaleto=8\n",
      "300 requests finished\n",
      "https://www.food.com/recipe/chili-s-fajitas-by-todd-wilbur-8595?mode=Metric&scaleto=8\n",
      "400 requests finished\n",
      "https://www.food.com/recipe/chili-s-fajitas-by-todd-wilbur-8595?mode=Metric&scaleto=8\n",
      "500 requests finished\n",
      "600 requests finished\n",
      "700 requests finished\n",
      "800 requests finished\n",
      "900 requests finished\n",
      "1000 requests finished\n",
      "1100 requests finished\n",
      "1200 requests finished\n",
      "1300 requests finished\n",
      "1400 requests finished\n",
      "1500 requests finished\n",
      "1600 requests finished\n",
      "1700 requests finished\n",
      "1800 requests finished\n",
      "https://www.food.com/recipe/p-f-chang-s-chicken-lettuce-wraps-by-todd-wilbur-15865?mode=Metric&scaleto=8\n",
      "1900 requests finished\n",
      "https://www.food.com/recipe/p-f-chang-s-lettuce-wraps-by-todd-wilbur-15870?mode=Metric&scaleto=8\n",
      "2000 requests finished\n",
      "2100 requests finished\n",
      "https://www.food.com/recipe/tsr-version-of-tony-roma-s-baked-potato-soup-by-todd-wilbur-16810?mode=Metric&scaleto=8\n",
      "2200 requests finished\n",
      "2300 requests finished\n",
      "https://www.food.com/recipe/tsr-version-of-olive-garden-pasta-e-fagioli-by-todd-wilbur-17566?mode=Metric&scaleto=8\n",
      "https://www.food.com/recipe/tsr-version-of-olive-garden-pasta-e-fagioli-by-todd-wilbur-17566?mode=Metric&scaleto=8\n",
      "2400 requests finished\n",
      "https://www.food.com/recipe/tsr-version-of-mimi-s-cafe-carrot-raisin-bread-by-todd-wilbur-18043?mode=Metric&scaleto=8\n",
      "2500 requests finished\n",
      "https://www.food.com/recipe/tsr-version-of-chili-s-southwestern-egg-rolls-by-todd-wilbur-18319?mode=Metric&scaleto=8\n",
      "https://www.food.com/recipe/tsr-version-of-chili-s-southwestern-egg-rolls-by-todd-wilbur-18319?mode=Metric&scaleto=8\n",
      "2600 requests finished\n",
      "2700 requests finished\n",
      "https://www.food.com/recipe/tsr-version-of-olive-garden-italian-salad-dressingby-todd-wilbur-18840?mode=Metric&scaleto=8\n",
      "https://www.food.com/recipe/k-c-masterpiece-original-barbecue-sauce-by-todd-wilbur-18873?mode=Metric&scaleto=8\n",
      "2800 requests finished\n",
      "https://www.food.com/recipe/lawry-s-taco-spices-seasoning-mix-by-todd-wilbur-19224?mode=Metric&scaleto=8\n",
      "https://www.food.com/recipe/lawry-s-taco-spices-seasoning-mix-by-todd-wilbur-19224?mode=Metric&scaleto=8\n",
      "https://www.food.com/recipe/tsr-version-of-heinz-57-steak-sauce-by-todd-wilbur-19244?mode=Metric&scaleto=8\n",
      "2900 requests finished\n",
      "3000 requests finished\n",
      "3100 requests finished\n",
      "https://www.food.com/recipe/top-secret-recipes-version-of-cadbury-cream-eggs-by-todd-wilbur-20733?mode=Metric&scaleto=8\n",
      "3200 requests finished\n",
      "3300 requests finished\n",
      "3400 requests finished\n",
      "3500 requests finished\n",
      "3600 requests finished\n",
      "3700 requests finished\n",
      "3800 requests finished\n",
      "3900 requests finished\n",
      "https://www.food.com/recipe/tsr-version-of-wienerschnitzel-chili-sauce-by-todd-wilbur-24941?mode=Metric&scaleto=8\n",
      "4000 requests finished\n",
      "4100 requests finished\n",
      "4200 requests finished\n",
      "4300 requests finished\n",
      "4400 requests finished\n",
      "4500 requests finished\n",
      "4600 requests finished\n",
      "https://www.food.com/recipe/tsr-version-of-chili-s-honey-mustard-dressing-by-todd-wilbur-28110?mode=Metric&scaleto=8\n",
      "https://www.food.com/recipe/top-secret-recipes-version-of-heinz-ketchup-28412?mode=Metric&scaleto=8\n",
      "4700 requests finished\n",
      "https://www.food.com/recipe/boston-market-meatloaf-by-todd-wilbur-28927?mode=Metric&scaleto=8\n",
      "4800 requests finished\n",
      "4900 requests finished\n",
      "5000 requests finished\n",
      "5100 requests finished\n",
      "5200 requests finished\n",
      "5300 requests finished\n",
      "5400 requests finished\n",
      "5500 requests finished\n",
      "5600 requests finished\n",
      "https://www.food.com/recipe/tsr-version-of-coconut-mocha-frappe-cappuccino-by-todd-wilbur-33323?mode=Metric&scaleto=8\n",
      "5700 requests finished\n",
      "https://www.food.com/recipe/wendy-s-classic-greek-fresh-stuffed-pita-by-todd-wilbur-33965?mode=Metric&scaleto=8\n",
      "5800 requests finished\n",
      "5900 requests finished\n",
      "https://www.food.com/recipe/tsr-version-good-seasons-italiansalad-dressing-mixby-todd-wilbur-34573?mode=Metric&scaleto=8\n",
      "6000 requests finished\n",
      "6100 requests finished\n",
      "6200 requests finished\n",
      "6300 requests finished\n",
      "6400 requests finished\n",
      "6500 requests finished\n",
      "6600 requests finished\n",
      "6700 requests finished\n",
      "6800 requests finished\n",
      "6900 requests finished\n",
      "7000 requests finished\n",
      "https://www.food.com/recipe/marie-callender-s-famous-golden-cornbread-by-todd-wilbur-40844?mode=Metric&scaleto=8\n",
      "https://www.food.com/recipe/marie-callender-s-famous-golden-cornbread-by-todd-wilbur-40844?mode=Metric&scaleto=8\n",
      "https://www.food.com/recipe/tsr-version-of-popeyes-buttermilk-biscuits-by-todd-wilbur-41065?mode=Metric&scaleto=8\n",
      "7100 requests finished\n",
      "7200 requests finished\n",
      "7300 requests finished\n",
      "7400 requests finished\n",
      "7500 requests finished\n",
      "7600 requests finished\n",
      "7700 requests finished\n",
      "https://www.food.com/recipe/tsr-version-of-ragu-meat-pasta-sauce-by-todd-wilbur-45501?mode=Metric&scaleto=8\n",
      "https://www.food.com/recipe/top-secret-recipes-version-of-wendy-s-chili-by-todd-wilbur-45525?mode=Metric&scaleto=8\n",
      "7800 requests finished\n",
      "7900 requests finished\n",
      "8000 requests finished\n",
      "8100 requests finished\n",
      "8200 requests finished\n",
      "8300 requests finished\n",
      "8400 requests finished\n",
      "8500 requests finished\n",
      "8600 requests finished\n",
      "8700 requests finished\n",
      "8800 requests finished\n",
      "8900 requests finished\n",
      "https://www.food.com/recipe/tsr-version-of-carrabba-s-bread-dipping-spice-by-todd-wilbur-53876?mode=Metric&scaleto=8\n",
      "9000 requests finished\n",
      "https://www.food.com/recipe/tsr-version-of-chili-s-grilled-baby-back-ribs-by-todd-wilbur-54234?mode=Metric&scaleto=8\n",
      "9100 requests finished\n",
      "9200 requests finished\n",
      "9300 requests finished\n",
      "9400 requests finished\n",
      "9500 requests finished\n",
      "9600 requests finished\n",
      "https://www.food.com/recipe/kfc-original-recipe-copycat-by-todd-wilbur-58947?mode=Metric&scaleto=8\n",
      "https://www.food.com/recipe/top-secret-reicpes-version-of-kfc-wings-by-todd-wilbur-58953?mode=Metric&scaleto=8\n",
      "9700 requests finished\n",
      "9800 requests finished\n",
      "9900 requests finished\n",
      "10000 requests finished\n",
      "10100 requests finished\n",
      "10200 requests finished\n",
      "10300 requests finished\n",
      "10400 requests finished\n",
      "10500 requests finished\n",
      "10600 requests finished\n",
      "10700 requests finished\n",
      "10800 requests finished\n",
      "10900 requests finished\n",
      "11000 requests finished\n",
      "11100 requests finished\n",
      "11200 requests finished\n",
      "11300 requests finished\n",
      "https://www.food.com/recipe/tsr-orange-chicken-70463?mode=Metric&scaleto=8\n",
      "11400 requests finished\n",
      "11500 requests finished\n",
      "11600 requests finished\n",
      "11700 requests finished\n",
      "11800 requests finished\n",
      "11900 requests finished\n",
      "12000 requests finished\n",
      "12100 requests finished\n",
      "12200 requests finished\n",
      "12300 requests finished\n",
      "12400 requests finished\n",
      "12500 requests finished\n",
      "12600 requests finished\n",
      "12700 requests finished\n",
      "https://www.food.com/recipe/tsr-version-of-aunt-jemima-maple-syrup-by-todd-wilbur-82660?mode=Metric&scaleto=8\n",
      "12800 requests finished\n",
      "https://www.food.com/recipe/tsr-version-of-jack-in-the-box-tacos-by-todd-wilbur-83022?mode=Metric&scaleto=8\n",
      "https://www.food.com/recipe/tsr-version-of-jack-in-the-box-tacos-by-todd-wilbur-83022?mode=Metric&scaleto=8\n",
      "12900 requests finished\n",
      "https://www.food.com/recipe/tsr-version-of-popeyes-famous-cajun-gravy-by-todd-wilbur-83974?mode=Metric&scaleto=8\n",
      "13000 requests finished\n",
      "13100 requests finished\n",
      "13200 requests finished\n",
      "13300 requests finished\n",
      "13400 requests finished\n",
      "13500 requests finished\n",
      "https://www.food.com/recipe/marie-callender-s-banana-cream-pie-by-todd-wilbur-89973?mode=Metric&scaleto=8\n",
      "13600 requests finished\n",
      "13700 requests finished\n",
      "https://www.food.com/recipe/tsr-version-of-twin-dragon-almond-cookies-by-todd-wilbur-91467?mode=Metric&scaleto=8\n",
      "13800 requests finished\n",
      "13900 requests finished\n",
      "14000 requests finished\n",
      "14100 requests finished\n",
      "14200 requests finished\n",
      "14300 requests finished\n",
      "14400 requests finished\n",
      "14500 requests finished\n",
      "14600 requests finished\n",
      "14700 requests finished\n",
      "14800 requests finished\n",
      "14900 requests finished\n",
      "https://www.food.com/recipe/tsr-version-of-taco-bell-enchiritos-by-todd-wilbur-102163?mode=Metric&scaleto=8\n",
      "https://www.food.com/recipe/tsr-version-of-taco-bell-enchiritos-by-todd-wilbur-102163?mode=Metric&scaleto=8\n"
     ]
    },
    {
     "name": "stdout",
     "output_type": "stream",
     "text": [
      "15000 requests finished\n",
      "https://www.food.com/recipe/tsr-version-of-t-g-i-friday-s-black-bean-soup-by-todd-wilbur-102274?mode=Metric&scaleto=8\n",
      "15100 requests finished\n",
      "15200 requests finished\n",
      "15300 requests finished\n",
      "15400 requests finished\n",
      "15500 requests finished\n",
      "15600 requests finished\n",
      "https://www.food.com/recipe/top-secret-recipes-version-of-baja-fresh-salsa-by-todd-wilbur-108594?mode=Metric&scaleto=8\n",
      "https://www.food.com/recipe/top-secret-recipes-version-of-baja-fresh-salsa-by-todd-wilbur-108594?mode=Metric&scaleto=8\n",
      "15700 requests finished\n",
      "15800 requests finished\n",
      "https://www.food.com/recipe/shanghai-wings-copycat-chili-s-by-todd-wilbur-110159?mode=Metric&scaleto=8\n",
      "https://www.food.com/recipe/yaki-soft-tacos-copycat-by-todd-wilbur-110437?mode=Metric&scaleto=8\n",
      "15900 requests finished\n",
      "16000 requests finished\n",
      "https://www.food.com/recipe/tsr-version-of-breakfast-burritos-mcdonald-s-by-todd-wilbur-111725?mode=Metric&scaleto=8\n",
      "https://www.food.com/recipe/pizza-dipping-sauces-copycat-papa-john-s-by-todd-wilbur-111826?mode=Metric&scaleto=8\n",
      "16100 requests finished\n",
      "16200 requests finished\n",
      "https://www.food.com/recipe/tsr-version-of-mcdonald-s-shamrock-shake-by-todd-wilbur-113457?mode=Metric&scaleto=8\n",
      "https://www.food.com/recipe/tsr-version-of-jimmy-buffett-s-key-lime-pie-by-todd-wilbur-113491?mode=Metric&scaleto=8\n",
      "16300 requests finished\n",
      "16400 requests finished\n",
      "https://www.food.com/recipe/lone-star-steakhouse-sweet-bourbon-salmon-by-todd-wilbur-115254?mode=Metric&scaleto=8\n",
      "16500 requests finished\n",
      "16600 requests finished\n",
      "16700 requests finished\n",
      "16800 requests finished\n",
      "16900 requests finished\n",
      "17000 requests finished\n",
      "17100 requests finished\n",
      "17200 requests finished\n",
      "17300 requests finished\n",
      "17400 requests finished\n",
      "https://www.food.com/recipe/ww-6-points-applebee-s-low-fat-veggie-quesadilla-by-todd-wilbur-123279?mode=Metric&scaleto=8\n",
      "https://www.food.com/recipe/ww-6-points-applebee-s-low-fat-veggie-quesadilla-by-todd-wilbur-123279?mode=Metric&scaleto=8\n",
      "https://www.food.com/recipe/chili-s-guiltless-grill-chicken-sandwiches-by-todd-wilbur-123282?mode=Metric&scaleto=8\n",
      "https://www.food.com/recipe/hickory-burger-sonic-copycat-by-todd-wilbur-123787?mode=Metric&scaleto=8\n",
      "17500 requests finished\n",
      "17600 requests finished\n",
      "17700 requests finished\n",
      "17800 requests finished\n",
      "17900 requests finished\n",
      "18000 requests finished\n",
      "18100 requests finished\n",
      "18200 requests finished\n",
      "18300 requests finished\n",
      "18400 requests finished\n",
      "18500 requests finished\n",
      "18600 requests finished\n",
      "18700 requests finished\n",
      "18800 requests finished\n",
      "18900 requests finished\n",
      "19000 requests finished\n",
      "19100 requests finished\n",
      "19200 requests finished\n",
      "19300 requests finished\n",
      "19400 requests finished\n",
      "19500 requests finished\n",
      "19600 requests finished\n",
      "19700 requests finished\n",
      "19800 requests finished\n",
      "19900 requests finished\n",
      "20000 requests finished\n",
      "https://www.food.com/recipe/copycat-burger-king-onion-rings-by-todd-wilbur-141781?mode=Metric&scaleto=8\n",
      "20100 requests finished\n",
      "20200 requests finished\n",
      "20300 requests finished\n",
      "20400 requests finished\n",
      "20500 requests finished\n",
      "20600 requests finished\n",
      "20700 requests finished\n",
      "20800 requests finished\n",
      "20900 requests finished\n",
      "21000 requests finished\n",
      "https://www.food.com/recipe/tsr-version-of-starbucks-carrot-cake-by-todd-wilbur-150645?mode=Metric&scaleto=8\n",
      "21100 requests finished\n",
      "21200 requests finished\n",
      "21300 requests finished\n",
      "21400 requests finished\n",
      "21500 requests finished\n",
      "21600 requests finished\n",
      "21700 requests finished\n",
      "https://www.food.com/recipe/kfc-coleslaw-copycat-recipe-by-todd-wilbur-156331?mode=Metric&scaleto=8\n",
      "https://www.food.com/recipe/tsr-version-of-chi-chi-s-sweet-corn-cake-by-todd-wilbur-156352?mode=Metric&scaleto=8\n",
      "https://www.food.com/recipe/tsr-version-of-taco-bell-enchirito-copycat-by-todd-wilbur-157142?mode=Metric&scaleto=8\n",
      "https://www.food.com/recipe/tsr-version-of-tony-roma-s-baby-back-ribs-by-todd-wilbur-157144?mode=Metric&scaleto=8\n",
      "21800 requests finished\n",
      "21900 requests finished\n",
      "22000 requests finished\n",
      "22100 requests finished\n",
      "22200 requests finished\n",
      "22300 requests finished\n",
      "22400 requests finished\n",
      "22500 requests finished\n",
      "https://www.food.com/recipe/tsr-version-of-margaritaville-key-lime-pie-by-todd-wilbur-163684?mode=Metric&scaleto=8\n",
      "22600 requests finished\n",
      "22700 requests finished\n",
      "22800 requests finished\n",
      "22900 requests finished\n",
      "23000 requests finished\n",
      "23100 requests finished\n",
      "23200 requests finished\n",
      "23300 requests finished\n",
      "23400 requests finished\n",
      "23500 requests finished\n",
      "23600 requests finished\n",
      "23700 requests finished\n",
      "23800 requests finished\n",
      "23900 requests finished\n",
      "24000 requests finished\n",
      "24100 requests finished\n",
      "24200 requests finished\n",
      "24300 requests finished\n",
      "24400 requests finished\n",
      "24500 requests finished\n",
      "24600 requests finished\n",
      "24700 requests finished\n",
      "24800 requests finished\n",
      "https://www.food.com/recipe/tsr-version-of-popeyes-cajun-sparkle-by-todd-wilbur-180688?mode=Metric&scaleto=8\n",
      "24900 requests finished\n",
      "25000 requests finished\n",
      "25100 requests finished\n",
      "25200 requests finished\n",
      "25300 requests finished\n",
      "25400 requests finished\n",
      "https://www.food.com/recipe/top-secret-recipes-version-of-chevy-s-salsa-by-todd-wilbur-185851?mode=Metric&scaleto=8\n",
      "https://www.food.com/recipe/top-secret-recipes-version-of-chevy-s-salsa-by-todd-wilbur-185851?mode=Metric&scaleto=8\n",
      "25500 requests finished\n",
      "25600 requests finished\n",
      "25700 requests finished\n",
      "25800 requests finished\n",
      "25900 requests finished\n",
      "26000 requests finished\n",
      "https://www.food.com/recipe/crispy-green-bean-fries-tgi-friday-s-by-todd-wilbur-191793?mode=Metric&scaleto=8\n",
      "26100 requests finished\n",
      "26200 requests finished\n",
      "26300 requests finished\n",
      "26400 requests finished\n",
      "26500 requests finished\n",
      "26600 requests finished\n",
      "26700 requests finished\n",
      "26800 requests finished\n",
      "https://www.food.com/recipe/bronco-berry-sauce-by-todd-wilbur-for-arby-s-jalapeno-poppers-200268?mode=Metric&scaleto=8\n",
      "26900 requests finished\n",
      "27000 requests finished\n",
      "27100 requests finished\n",
      "https://www.food.com/recipe/outback-honey-wheat-bushman-bread-copycat-by-todd-wilbur-204171?mode=Metric&scaleto=8\n",
      "27200 requests finished\n",
      "27300 requests finished\n",
      "27400 requests finished\n",
      "https://www.food.com/recipe/cheesecake-factory-bang-bang-chicken-and-shrimp-by-todd-wilbur-206347?mode=Metric&scaleto=8\n",
      "27500 requests finished\n",
      "27600 requests finished\n",
      "27700 requests finished\n",
      "27800 requests finished\n",
      "27900 requests finished\n",
      "28000 requests finished\n",
      "28100 requests finished\n",
      "28200 requests finished\n",
      "28300 requests finished\n",
      "28400 requests finished\n",
      "28500 requests finished\n",
      "28600 requests finished\n",
      "28700 requests finished\n",
      "28800 requests finished\n",
      "28900 requests finished\n",
      "29000 requests finished\n",
      "29100 requests finished\n",
      "https://www.food.com/recipe/cheesecake-factory-cajun-jambalaya-pasta-by-todd-wilbur-225047?mode=Metric&scaleto=8\n",
      "29200 requests finished\n",
      "29300 requests finished\n",
      "29400 requests finished\n",
      "29500 requests finished\n",
      "29600 requests finished\n",
      "29700 requests finished\n",
      "29800 requests finished\n",
      "29900 requests finished\n",
      "30000 requests finished\n",
      "30100 requests finished\n",
      "30200 requests finished\n",
      "30300 requests finished\n",
      "30400 requests finished\n",
      "30500 requests finished\n",
      "30600 requests finished\n",
      "30700 requests finished\n",
      "30800 requests finished\n",
      "30900 requests finished\n",
      "31000 requests finished\n",
      "31100 requests finished\n",
      "31200 requests finished\n",
      "31300 requests finished\n",
      "31400 requests finished\n",
      "31500 requests finished\n",
      "31600 requests finished\n",
      "31700 requests finished\n",
      "31800 requests finished\n",
      "31900 requests finished\n",
      "32000 requests finished\n",
      "32100 requests finished\n",
      "32200 requests finished\n",
      "32300 requests finished\n",
      "32400 requests finished\n",
      "https://www.food.com/recipe/tsr-version-of-popeyes-red-beans-rice-by-todd-wilbur-259867?mode=Metric&scaleto=8\n",
      "32500 requests finished\n",
      "32600 requests finished\n",
      "32700 requests finished\n",
      "32800 requests finished\n",
      "32900 requests finished\n",
      "33000 requests finished\n",
      "33100 requests finished\n",
      "33200 requests finished\n",
      "33300 requests finished\n",
      "33400 requests finished\n",
      "33500 requests finished\n",
      "https://www.food.com/recipe/tsr-version-of-chi-chi-s-beef-nachos-grande-by-todd-wilbur-275930?mode=Metric&scaleto=8\n",
      "33600 requests finished\n",
      "33700 requests finished\n",
      "https://www.food.com/recipe/tsr-version-of-olive-garden-tiramisu-by-todd-wilbur-278117?mode=Metric&scaleto=8\n",
      "33800 requests finished\n",
      "33900 requests finished\n",
      "34000 requests finished\n",
      "34100 requests finished\n"
     ]
    },
    {
     "name": "stdout",
     "output_type": "stream",
     "text": [
      "34200 requests finished\n",
      "34300 requests finished\n",
      "34400 requests finished\n",
      "34500 requests finished\n",
      "34600 requests finished\n",
      "https://www.food.com/recipe/fuddruckers-hamburger-seasoning-by-todd-wilbur-290879?mode=Metric&scaleto=8\n",
      "34700 requests finished\n",
      "34800 requests finished\n",
      "34900 requests finished\n",
      "35000 requests finished\n",
      "35100 requests finished\n",
      "35200 requests finished\n",
      "35300 requests finished\n",
      "35400 requests finished\n",
      "35500 requests finished\n",
      "35600 requests finished\n",
      "35700 requests finished\n",
      "35800 requests finished\n",
      "35900 requests finished\n",
      "36000 requests finished\n",
      "https://www.food.com/recipe/tsr-version-of-burger-king-zesty-onion-ring-sauce-by-todd-wilbur-308329?mode=Metric&scaleto=8\n",
      "36100 requests finished\n",
      "36200 requests finished\n",
      "36300 requests finished\n",
      "36400 requests finished\n",
      "36500 requests finished\n",
      "36600 requests finished\n",
      "36700 requests finished\n",
      "36800 requests finished\n",
      "36900 requests finished\n",
      "37000 requests finished\n",
      "37100 requests finished\n",
      "https://www.food.com/recipe/chipotle-mexican-grill-barbacoa-burritos-by-todd-wilbur-323815?mode=Metric&scaleto=8\n",
      "https://www.food.com/recipe/chipotle-mexican-grill-barbacoa-burritos-by-todd-wilbur-323815?mode=Metric&scaleto=8\n",
      "37200 requests finished\n",
      "37300 requests finished\n",
      "37400 requests finished\n",
      "37500 requests finished\n",
      "37600 requests finished\n",
      "37700 requests finished\n",
      "37800 requests finished\n",
      "37900 requests finished\n",
      "38000 requests finished\n",
      "38100 requests finished\n",
      "38200 requests finished\n",
      "38300 requests finished\n",
      "38400 requests finished\n",
      "38500 requests finished\n",
      "https://www.food.com/recipe/tsr-version-of-taco-bell-style-burrito-supreme-by-todd-wilbur-347671?mode=Metric&scaleto=8\n",
      "38600 requests finished\n",
      "38700 requests finished\n",
      "38800 requests finished\n",
      "38900 requests finished\n",
      "39000 requests finished\n",
      "39100 requests finished\n",
      "39200 requests finished\n",
      "39300 requests finished\n",
      "39400 requests finished\n",
      "39500 requests finished\n",
      "39600 requests finished\n",
      "https://www.food.com/recipe/top-secret-wendy-s-frosty-363702?mode=Metric&scaleto=8\n",
      "39700 requests finished\n",
      "39800 requests finished\n",
      "39900 requests finished\n",
      "40000 requests finished\n",
      "40100 requests finished\n",
      "40200 requests finished\n",
      "40300 requests finished\n",
      "40400 requests finished\n",
      "https://www.food.com/recipe/hard-rock-cafe-twisted-mac-cheese-by-todd-wilbur-372058?mode=Metric&scaleto=8\n",
      "40500 requests finished\n",
      "40600 requests finished\n",
      "40700 requests finished\n",
      "40800 requests finished\n",
      "https://www.food.com/recipe/tsr-version-of-taco-bell-fire-sauce-by-todd-wilbur-374345?mode=Metric&scaleto=8\n",
      "https://www.food.com/recipe/tsr-version-of-taco-bell-fire-sauce-by-todd-wilbur-374345?mode=Metric&scaleto=8\n",
      "40900 requests finished\n",
      "41000 requests finished\n",
      "41100 requests finished\n",
      "41200 requests finished\n",
      "https://www.food.com/recipe/chili-s-grilled-caribbean-chicken-salad-by-todd-wilbur-379316?mode=Metric&scaleto=8\n",
      "https://www.food.com/recipe/chili-s-grilled-caribbean-chicken-salad-by-todd-wilbur-379316?mode=Metric&scaleto=8\n",
      "41300 requests finished\n",
      "41400 requests finished\n",
      "41500 requests finished\n",
      "41600 requests finished\n",
      "41700 requests finished\n",
      "https://www.food.com/recipe/mcdonald-s-sweet-and-sour-sauce-by-todd-wilbur-386474?mode=Metric&scaleto=8\n",
      "41800 requests finished\n",
      "41900 requests finished\n",
      "42000 requests finished\n",
      "42100 requests finished\n",
      "42200 requests finished\n",
      "42300 requests finished\n",
      "42400 requests finished\n",
      "42500 requests finished\n",
      "42600 requests finished\n",
      "42700 requests finished\n",
      "42800 requests finished\n",
      "42900 requests finished\n",
      "43000 requests finished\n",
      "https://www.food.com/recipe/chili-s-crispy-honey-chipotle-chicken-crispers-bytodd-wilbur-411689?mode=Metric&scaleto=8\n",
      "43100 requests finished\n",
      "43200 requests finished\n",
      "https://www.food.com/recipe/chili-s-copycat-salsa-recipe-by-todd-wilbur-416730?mode=Metric&scaleto=8\n",
      "https://www.food.com/recipe/chili-s-copycat-salsa-recipe-by-todd-wilbur-416730?mode=Metric&scaleto=8\n",
      "43300 requests finished\n",
      "43400 requests finished\n",
      "43500 requests finished\n",
      "43600 requests finished\n",
      "43700 requests finished\n",
      "43800 requests finished\n",
      "43900 requests finished\n",
      "44000 requests finished\n",
      "44100 requests finished\n",
      "44200 requests finished\n",
      "44300 requests finished\n",
      "44400 requests finished\n",
      "44500 requests finished\n",
      "https://www.food.com/recipe/tsr-version-of-houston-s-couscous-salad-by-todd-wilbur-442519?mode=Metric&scaleto=8\n",
      "https://www.food.com/recipe/chili-s-fajitas-for-two-by-todd-wilbur-443359?mode=Metric&scaleto=8\n",
      "44600 requests finished\n",
      "44700 requests finished\n",
      "44800 requests finished\n",
      "44900 requests finished\n",
      "https://www.food.com/recipe/tsr-version-ofbahama-breeze-island-onion-rings-by-todd-wilbur-449986?mode=Metric&scaleto=8\n",
      "https://www.food.com/recipe/tsr-version-ofbahama-breeze-island-onion-rings-by-todd-wilbur-449986?mode=Metric&scaleto=8\n",
      "https://www.food.com/recipe/tsr-version-of-applebees-tomato-basil-soup-by-todd-wilbur-450563?mode=Metric&scaleto=8\n",
      "45000 requests finished\n",
      "45100 requests finished\n",
      "45200 requests finished\n",
      "45300 requests finished\n",
      "45400 requests finished\n",
      "45500 requests finished\n",
      "45600 requests finished\n",
      "45700 requests finished\n",
      "45800 requests finished\n",
      "45900 requests finished\n",
      "46000 requests finished\n",
      "46100 requests finished\n",
      "46200 requests finished\n",
      "46300 requests finished\n",
      "46400 requests finished\n",
      "46500 requests finished\n",
      "46600 requests finished\n",
      "46700 requests finished\n",
      "46800 requests finished\n",
      "46900 requests finished\n",
      "47000 requests finished\n",
      "47100 requests finished\n",
      "47200 requests finished\n",
      "47300 requests finished\n",
      "47400 requests finished\n",
      "47500 requests finished\n",
      "47600 requests finished\n",
      "https://www.food.com/recipe/chilis-copycat-skillet-queso-by-todd-wilbur-503179?mode=Metric&scaleto=8\n",
      "47700 requests finished\n",
      "47800 requests finished\n",
      "47900 requests finished\n",
      "48000 requests finished\n",
      "48100 requests finished\n",
      "48200 requests finished\n",
      "48300 requests finished\n",
      "48400 requests finished\n",
      "48500 requests finished\n"
     ]
    }
   ],
   "source": [
    "ingredient_dict = {}\n",
    "failed_url_list = []\n",
    "counter = 0\n",
    "for _, series in training_df.iterrows():\n",
    "    if counter % 100 == 0:\n",
    "        print('{} requests finished'.format(counter))\n",
    "    recipe_id = series['id']\n",
    "    recipe_name = series['name']\n",
    "    url = 'https://www.food.com/recipe/{}{}?mode=Metric&scaleto=8'.format('-'.join(recipe_name.split()), '-'+str(recipe_id))\n",
    "    scraper = scrape_me(url)\n",
    "    if len(scraper.ingredients()) == 0:\n",
    "        print(url)\n",
    "        failed_url_list.append(url)\n",
    "    else:\n",
    "        ingredient_dict[recipe_id] = scraper.ingredients()\n",
    "    counter += 1"
   ]
  },
  {
   "cell_type": "code",
   "execution_count": 19,
   "metadata": {},
   "outputs": [],
   "source": [
    "import json\n",
    "json = json.dumps(ingredient_dict)\n",
    "f = open(\"ingredients.json\",\"w\")\n",
    "f.write(json)\n",
    "f.close()"
   ]
  },
  {
   "cell_type": "code",
   "execution_count": 22,
   "metadata": {},
   "outputs": [],
   "source": [
    "import json\n",
    "json = json.dumps(failed_url_list)\n",
    "f = open(\"failed_url.json\",\"w\")\n",
    "f.write(json)\n",
    "f.close()"
   ]
  }
 ],
 "metadata": {
  "kernelspec": {
   "display_name": "PyCharm (02 - Data From The Web)",
   "language": "python",
   "name": "pycharm-33a21fd9"
  },
  "language_info": {
   "codemirror_mode": {
    "name": "ipython",
    "version": 3
   },
   "file_extension": ".py",
   "mimetype": "text/x-python",
   "name": "python",
   "nbconvert_exporter": "python",
   "pygments_lexer": "ipython3",
   "version": "3.6.9"
  }
 },
 "nbformat": 4,
 "nbformat_minor": 2
}
